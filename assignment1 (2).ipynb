{
  "cells": [
    {
      "cell_type": "code",
      "source": [
        "import pandas as pd\n",
        "import numpy as np\n",
        "from statsmodels.tsa.api import ExponentialSmoothing\n",
        "from statsmodels.tsa.statespace.varmax import VARMAX\n",
        "import pickle\n",
        "\n",
        "train_url = \"https://github.com/dustywhite7/econ8310-assignment1/raw/main/assignment_data_train.csv\"\n",
        "train_data = pd.read_csv(train_url)\n",
        "\n",
        "if 'Timestamp' in train_data.columns:\n",
        "    train_data.rename(columns={'Timestamp': 'timestamp'}, inplace=True)\n",
        "\n",
        "train_data['timestamp'] = pd.to_datetime(train_data['timestamp'])\n",
        "train_data.set_index('timestamp', inplace=True)\n",
        "\n",
        "train_data = train_data.asfreq('h')\n",
        "\n",
        "y_train = train_data['trips']\n",
        "\n",
        "model = ExponentialSmoothing(y_train, seasonal='add', seasonal_periods=24)\n",
        "modelFit = model.fit()\n",
        "\n",
        "with open(\"model.pkl\", \"wb\") as f:\n",
        "    pickle.dump(modelFit, f)\n",
        "\n",
        "test_url = \"https://github.com/dustywhite7/econ8310-assignment1/raw/main/assignment_data_test.csv\"\n",
        "test_data = pd.read_csv(test_url)\n",
        "\n",
        "if 'Timestamp' in test_data.columns:\n",
        "    test_data.rename(columns={'Timestamp': 'timestamp'}, inplace=True)\n",
        "\n",
        "test_data['timestamp'] = pd.to_datetime(test_data['timestamp'])\n",
        "test_data.set_index('timestamp', inplace=True)\n",
        "test_data = test_data.asfreq('h')\n",
        "\n",
        "pred = modelFit.forecast(steps=744)\n",
        "\n",
        "pred.to_csv(\"predictions.csv\")\n",
        "\n",
        "print(\"Model training and prediction completed successfully!\")\n",
        "\n",
        "import matplotlib.pyplot as plt\n",
        "\n",
        "pred = pd.read_csv(\"predictions.csv\", index_col=0)\n",
        "pred.index = pd.to_datetime(pred.index)\n",
        "\n"
      ],
      "metadata": {
        "colab": {
          "base_uri": "https://localhost:8080/"
        },
        "id": "9SH1bky4bNuG",
        "outputId": "505880b5-feca-4b17-b7b7-24473c5eeb66"
      },
      "id": "9SH1bky4bNuG",
      "execution_count": 25,
      "outputs": [
        {
          "output_type": "stream",
          "name": "stderr",
          "text": [
            "/usr/local/lib/python3.11/dist-packages/statsmodels/tsa/holtwinters/model.py:918: ConvergenceWarning:\n",
            "\n",
            "Optimization failed to converge. Check mle_retvals.\n",
            "\n"
          ]
        },
        {
          "output_type": "stream",
          "name": "stdout",
          "text": [
            "Model training and prediction completed successfully!\n"
          ]
        }
      ]
    }
  ],
  "metadata": {
    "kernelspec": {
      "display_name": "Python 3 (ipykernel)",
      "language": "python",
      "name": "python3"
    },
    "language_info": {
      "codemirror_mode": {
        "name": "ipython",
        "version": 3
      },
      "file_extension": ".py",
      "mimetype": "text/x-python",
      "name": "python",
      "nbconvert_exporter": "python",
      "pygments_lexer": "ipython3",
      "version": "3.9.13"
    },
    "colab": {
      "provenance": []
    }
  },
  "nbformat": 4,
  "nbformat_minor": 5
}